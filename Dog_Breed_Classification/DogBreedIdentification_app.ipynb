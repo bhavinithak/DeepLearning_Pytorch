{
  "nbformat": 4,
  "nbformat_minor": 0,
  "metadata": {
    "colab": {
      "provenance": [],
      "authorship_tag": "ABX9TyPflvoIFTYoUdRgc6/WKfV1",
      "include_colab_link": true
    },
    "kernelspec": {
      "name": "python3",
      "display_name": "Python 3"
    },
    "language_info": {
      "name": "python"
    }
  },
  "cells": [
    {
      "cell_type": "markdown",
      "metadata": {
        "id": "view-in-github",
        "colab_type": "text"
      },
      "source": [
        "<a href=\"https://colab.research.google.com/github/bhavinithak/DeepLearning_Pytorch/blob/main/DogBreedIdentification_app.ipynb\" target=\"_parent\"><img src=\"https://colab.research.google.com/assets/colab-badge.svg\" alt=\"Open In Colab\"/></a>"
      ]
    },
    {
      "cell_type": "code",
      "source": [
        "!pip install timm"
      ],
      "metadata": {
        "id": "4XW4RkQ0V2MQ"
      },
      "execution_count": null,
      "outputs": []
    },
    {
      "cell_type": "code",
      "source": [
        "!pip install gradio"
      ],
      "metadata": {
        "id": "W0x1Ush-V8qB"
      },
      "execution_count": null,
      "outputs": []
    },
    {
      "cell_type": "code",
      "execution_count": 3,
      "metadata": {
        "id": "mcRNWug0VlK-"
      },
      "outputs": [],
      "source": [
        "from fastai.vision.all import *\n",
        "import gradio as gr\n",
        "import timm"
      ]
    },
    {
      "cell_type": "code",
      "source": [
        "im = PILImage.create('basset.jpeg')\n",
        "im.thumbnail((224,224))\n",
        "im"
      ],
      "metadata": {
        "colab": {
          "base_uri": "https://localhost:8080/",
          "height": 165
        },
        "id": "1B43mG24WERj",
        "outputId": "b60230d6-4b9a-47ab-b3dd-30071e9e6560"
      },
      "execution_count": 4,
      "outputs": [
        {
          "output_type": "execute_result",
          "data": {
            "text/plain": [
              "PILImage mode=RGB size=208x148"
            ],
            "image/png": "[encoded data removed]"
          },
          "metadata": {},
          "execution_count": 4
        }
      ]
    },
    {
      "cell_type": "code",
      "source": [
        "learn=load_learner('dog_breeder_model.pkl')"
      ],
      "metadata": {
        "id": "f_KvazwnWvU-"
      },
      "execution_count": 5,
      "outputs": []
    },
    {
      "cell_type": "code",
      "source": [
        "learn.predict(im)"
      ],
      "metadata": {
        "colab": {
          "base_uri": "https://localhost:8080/",
          "height": 173
        },
        "id": "QcicnpXsaCUX",
        "outputId": "78d485de-6c48-4da7-b8fc-47f837d42a8d"
      },
      "execution_count": 6,
      "outputs": [
        {
          "output_type": "display_data",
          "data": {
            "text/plain": [
              "<IPython.core.display.HTML object>"
            ],
            "text/html": [
              "\n",
              "<style>\n",
              "    /* Turns off some styling */\n",
              "    progress {\n",
              "        /* gets rid of default border in Firefox and Opera. */\n",
              "        border: none;\n",
              "        /* Needs to be in here for Safari polyfill so background images work as expected. */\n",
              "        background-size: auto;\n",
              "    }\n",
              "    progress:not([value]), progress:not([value])::-webkit-progress-bar {\n",
              "        background: repeating-linear-gradient(45deg, #7e7e7e, #7e7e7e 10px, #5c5c5c 10px, #5c5c5c 20px);\n",
              "    }\n",
              "    .progress-bar-interrupted, .progress-bar-interrupted::-webkit-progress-bar {\n",
              "        background: #F44336;\n",
              "    }\n",
              "</style>\n"
            ]
          },
          "metadata": {}
        },
        {
          "output_type": "display_data",
          "data": {
            "text/plain": [
              "<IPython.core.display.HTML object>"
            ],
            "text/html": []
          },
          "metadata": {}
        },
        {
          "output_type": "execute_result",
          "data": {
            "text/plain": [
              "('basset_hound',\n",
              " tensor(14),\n",
              " tensor([1.8882e-05, 1.5050e-06, 7.9829e-07, 1.1154e-06, 1.1707e-06, 9.9470e-06,\n",
              "         2.4044e-05, 1.0811e-06, 3.1484e-06, 3.8804e-06, 1.7223e-05, 7.5890e-07,\n",
              "         1.8602e-07, 9.5250e-07, 9.9861e-01, 7.6558e-04, 4.5821e-07, 8.4977e-07,\n",
              "         4.1284e-04, 6.9583e-06, 4.8196e-06, 1.6817e-06, 2.5215e-06, 9.8445e-07,\n",
              "         2.0824e-05, 1.7437e-06, 4.2961e-06, 9.3442e-06, 1.4880e-05, 3.6655e-06,\n",
              "         4.6372e-06, 3.4973e-06, 5.2330e-06, 1.8061e-05, 1.0744e-05, 6.2990e-07,\n",
              "         6.3109e-06]))"
            ]
          },
          "metadata": {},
          "execution_count": 6
        }
      ]
    },
    {
      "cell_type": "code",
      "source": [
        "categories = learn.dls.vocab\n",
        "\n",
        "def classify_image(img):\n",
        "    pred,idx,probs = learn.predict(img)\n",
        "    return dict(zip(categories, map(float,probs)))"
      ],
      "metadata": {
        "id": "HBDuQkidaFYW"
      },
      "execution_count": 7,
      "outputs": []
    },
    {
      "cell_type": "code",
      "source": [
        "classify_image(im)"
      ],
      "metadata": {
        "colab": {
          "base_uri": "https://localhost:8080/",
          "height": 659
        },
        "id": "Wf-puffIaJtv",
        "outputId": "76722473-3755-4907-8e65-b52a9a049b7d"
      },
      "execution_count": 8,
      "outputs": [
        {
          "output_type": "display_data",
          "data": {
            "text/plain": [
              "<IPython.core.display.HTML object>"
            ],
            "text/html": [
              "\n",
              "<style>\n",
              "    /* Turns off some styling */\n",
              "    progress {\n",
              "        /* gets rid of default border in Firefox and Opera. */\n",
              "        border: none;\n",
              "        /* Needs to be in here for Safari polyfill so background images work as expected. */\n",
              "        background-size: auto;\n",
              "    }\n",
              "    progress:not([value]), progress:not([value])::-webkit-progress-bar {\n",
              "        background: repeating-linear-gradient(45deg, #7e7e7e, #7e7e7e 10px, #5c5c5c 10px, #5c5c5c 20px);\n",
              "    }\n",
              "    .progress-bar-interrupted, .progress-bar-interrupted::-webkit-progress-bar {\n",
              "        background: #F44336;\n",
              "    }\n",
              "</style>\n"
            ]
          },
          "metadata": {}
        },
        {
          "output_type": "display_data",
          "data": {
            "text/plain": [
              "<IPython.core.display.HTML object>"
            ],
            "text/html": []
          },
          "metadata": {}
        },
        {
          "output_type": "execute_result",
          "data": {
            "text/plain": [
              "{'Abyssinian': 1.8882352378568612e-05,\n",
              " 'Bengal': 1.5049580497361603e-06,\n",
              " 'Birman': 7.982876013556961e-07,\n",
              " 'Bombay': 1.1154307912875083e-06,\n",
              " 'British_Shorthair': 1.1707173825925565e-06,\n",
              " 'Egyptian_Mau': 9.946999853127636e-06,\n",
              " 'Maine_Coon': 2.4044220481300727e-05,\n",
              " 'Persian': 1.0811322681547608e-06,\n",
              " 'Ragdoll': 3.1483675684285117e-06,\n",
              " 'Russian_Blue': 3.880436452163849e-06,\n",
              " 'Siamese': 1.7223070244654082e-05,\n",
              " 'Sphynx': 7.588998300889216e-07,\n",
              " 'american_bulldog': 1.860163223454947e-07,\n",
              " 'american_pit_bull_terrier': 9.524984534436953e-07,\n",
              " 'basset_hound': 0.9986146688461304,\n",
              " 'beagle': 0.0007655785884708166,\n",
              " 'boxer': 4.582073245273932e-07,\n",
              " 'chihuahua': 8.497662520312588e-07,\n",
              " 'english_cocker_spaniel': 0.00041283975588157773,\n",
              " 'english_setter': 6.95831113262102e-06,\n",
              " 'german_shorthaired': 4.819628429686418e-06,\n",
              " 'great_pyrenees': 1.6816694596855086e-06,\n",
              " 'havanese': 2.521506075936486e-06,\n",
              " 'japanese_chin': 9.8445241292211e-07,\n",
              " 'keeshond': 2.0823943486902863e-05,\n",
              " 'leonberger': 1.7437120050090016e-06,\n",
              " 'miniature_pinscher': 4.296144652471412e-06,\n",
              " 'newfoundland': 9.344234058517031e-06,\n",
              " 'pomeranian': 1.4879646187182516e-05,\n",
              " 'pug': 3.6655242183769587e-06,\n",
              " 'saint_bernard': 4.6371756070584524e-06,\n",
              " 'samoyed': 3.4973340916621964e-06,\n",
              " 'scottish_terrier': 5.233039246377302e-06,\n",
              " 'shiba_inu': 1.8061124137602746e-05,\n",
              " 'staffordshire_bull_terrier': 1.0743563507276122e-05,\n",
              " 'wheaten_terrier': 6.29899318482785e-07,\n",
              " 'yorkshire_terrier': 6.310914159257663e-06}"
            ]
          },
          "metadata": {},
          "execution_count": 8
        }
      ]
    },
    {
      "cell_type": "code",
      "source": [
        "image = gr.Image(height=192, width=192)\n",
        "label = gr.components.Label()\n",
        "examples = ['basset.jpeg']"
      ],
      "metadata": {
        "id": "eAFuqtElaL1Z"
      },
      "execution_count": 12,
      "outputs": []
    },
    {
      "cell_type": "code",
      "source": [
        "intf = gr.Interface(fn=classify_image, inputs=image, outputs=label, examples=examples)\n",
        "intf.launch(inline=False)"
      ],
      "metadata": {
        "colab": {
          "base_uri": "https://localhost:8080/"
        },
        "id": "Nt_-LjdAaQct",
        "outputId": "750b0cd2-a5e7-4bf5-d884-27bfe8c7ad41"
      },
      "execution_count": 13,
      "outputs": [
        {
          "output_type": "stream",
          "name": "stdout",
          "text": [
            "Setting queue=True in a Colab notebook requires sharing enabled. Setting `share=True` (you can turn this off by setting `share=False` in `launch()` explicitly).\n",
            "\n",
            "Colab notebook detected. To show errors in colab notebook, set debug=True in launch()\n",
            "Running on public URL: https://dda3a3cdb1968b515a.gradio.live\n",
            "\n",
            "This share link expires in 72 hours. For free permanent hosting and GPU upgrades, run `gradio deploy` from Terminal to deploy to Spaces (https://huggingface.co/spaces)\n"
          ]
        },
        {
          "output_type": "execute_result",
          "data": {
            "text/plain": []
          },
          "metadata": {},
          "execution_count": 13
        }
      ]
    },
    {
      "cell_type": "code",
      "source": [
        "m = learn.model\n",
        "m"
      ],
      "metadata": {
        "colab": {
          "base_uri": "https://localhost:8080/"
        },
        "id": "9NbK9CDEaZoQ",
        "outputId": "2e141def-4683-4d49-9338-429362d0a34e"
      },
      "execution_count": 14,
      "outputs": [
        {
          "output_type": "execute_result",
          "data": {
            "text/plain": [
              "Sequential(\n",
              "  (0): TimmBody(\n",
              "    (model): ConvNeXt(\n",
              "      (stem): Sequential(\n",
              "        (0): Conv2d(3, 96, kernel_size=(4, 4), stride=(4, 4))\n",
              "        (1): LayerNorm2d((96,), eps=1e-06, elementwise_affine=True)\n",
              "      )\n",
              "      (stages): Sequential(\n",
              "        (0): ConvNeXtStage(\n",
              "          (downsample): Identity()\n",
              "          (blocks): Sequential(\n",
              "            (0): ConvNeXtBlock(\n",
              "              (conv_dw): Conv2d(96, 96, kernel_size=(7, 7), stride=(1, 1), padding=(3, 3), groups=96)\n",
              "              (norm): LayerNorm((96,), eps=1e-06, elementwise_affine=True)\n",
              "              (mlp): GlobalResponseNormMlp(\n",
              "                (fc1): Linear(in_features=96, out_features=384, bias=True)\n",
              "                (act): GELU()\n",
              "                (drop1): Dropout(p=0.0, inplace=False)\n",
              "                (grn): GlobalResponseNorm()\n",
              "                (fc2): Linear(in_features=384, out_features=96, bias=True)\n",
              "                (drop2): Dropout(p=0.0, inplace=False)\n",
              "              )\n",
              "              (shortcut): Identity()\n",
              "              (drop_path): Identity()\n",
              "            )\n",
              "            (1): ConvNeXtBlock(\n",
              "              (conv_dw): Conv2d(96, 96, kernel_size=(7, 7), stride=(1, 1), padding=(3, 3), groups=96)\n",
              "              (norm): LayerNorm((96,), eps=1e-06, elementwise_affine=True)\n",
              "              (mlp): GlobalResponseNormMlp(\n",
              "                (fc1): Linear(in_features=96, out_features=384, bias=True)\n",
              "                (act): GELU()\n",
              "                (drop1): Dropout(p=0.0, inplace=False)\n",
              "                (grn): GlobalResponseNorm()\n",
              "                (fc2): Linear(in_features=384, out_features=96, bias=True)\n",
              "                (drop2): Dropout(p=0.0, inplace=False)\n",
              "              )\n",
              "              (shortcut): Identity()\n",
              "              (drop_path): Identity()\n",
              "            )\n",
              "            (2): ConvNeXtBlock(\n",
              "              (conv_dw): Conv2d(96, 96, kernel_size=(7, 7), stride=(1, 1), padding=(3, 3), groups=96)\n",
              "              (norm): LayerNorm((96,), eps=1e-06, elementwise_affine=True)\n",
              "              (mlp): GlobalResponseNormMlp(\n",
              "                (fc1): Linear(in_features=96, out_features=384, bias=True)\n",
              "                (act): GELU()\n",
              "                (drop1): Dropout(p=0.0, inplace=False)\n",
              "                (grn): GlobalResponseNorm()\n",
              "                (fc2): Linear(in_features=384, out_features=96, bias=True)\n",
              "                (drop2): Dropout(p=0.0, inplace=False)\n",
              "              )\n",
              "              (shortcut): Identity()\n",
              "              (drop_path): Identity()\n",
              "            )\n",
              "          )\n",
              "        )\n",
              "        (1): ConvNeXtStage(\n",
              "          (downsample): Sequential(\n",
              "            (0): LayerNorm2d((96,), eps=1e-06, elementwise_affine=True)\n",
              "            (1): Conv2d(96, 192, kernel_size=(2, 2), stride=(2, 2))\n",
              "          )\n",
              "          (blocks): Sequential(\n",
              "            (0): ConvNeXtBlock(\n",
              "              (conv_dw): Conv2d(192, 192, kernel_size=(7, 7), stride=(1, 1), padding=(3, 3), groups=192)\n",
              "              (norm): LayerNorm((192,), eps=1e-06, elementwise_affine=True)\n",
              "              (mlp): GlobalResponseNormMlp(\n",
              "                (fc1): Linear(in_features=192, out_features=768, bias=True)\n",
              "                (act): GELU()\n",
              "                (drop1): Dropout(p=0.0, inplace=False)\n",
              "                (grn): GlobalResponseNorm()\n",
              "                (fc2): Linear(in_features=768, out_features=192, bias=True)\n",
              "                (drop2): Dropout(p=0.0, inplace=False)\n",
              "              )\n",
              "              (shortcut): Identity()\n",
              "              (drop_path): Identity()\n",
              "            )\n",
              "            (1): ConvNeXtBlock(\n",
              "              (conv_dw): Conv2d(192, 192, kernel_size=(7, 7), stride=(1, 1), padding=(3, 3), groups=192)\n",
              "              (norm): LayerNorm((192,), eps=1e-06, elementwise_affine=True)\n",
              "              (mlp): GlobalResponseNormMlp(\n",
              "                (fc1): Linear(in_features=192, out_features=768, bias=True)\n",
              "                (act): GELU()\n",
              "                (drop1): Dropout(p=0.0, inplace=False)\n",
              "                (grn): GlobalResponseNorm()\n",
              "                (fc2): Linear(in_features=768, out_features=192, bias=True)\n",
              "                (drop2): Dropout(p=0.0, inplace=False)\n",
              "              )\n",
              "              (shortcut): Identity()\n",
              "              (drop_path): Identity()\n",
              "            )\n",
              "            (2): ConvNeXtBlock(\n",
              "              (conv_dw): Conv2d(192, 192, kernel_size=(7, 7), stride=(1, 1), padding=(3, 3), groups=192)\n",
              "              (norm): LayerNorm((192,), eps=1e-06, elementwise_affine=True)\n",
              "              (mlp): GlobalResponseNormMlp(\n",
              "                (fc1): Linear(in_features=192, out_features=768, bias=True)\n",
              "                (act): GELU()\n",
              "                (drop1): Dropout(p=0.0, inplace=False)\n",
              "                (grn): GlobalResponseNorm()\n",
              "                (fc2): Linear(in_features=768, out_features=192, bias=True)\n",
              "                (drop2): Dropout(p=0.0, inplace=False)\n",
              "              )\n",
              "              (shortcut): Identity()\n",
              "              (drop_path): Identity()\n",
              "            )\n",
              "          )\n",
              "        )\n",
              "        (2): ConvNeXtStage(\n",
              "          (downsample): Sequential(\n",
              "            (0): LayerNorm2d((192,), eps=1e-06, elementwise_affine=True)\n",
              "            (1): Conv2d(192, 384, kernel_size=(2, 2), stride=(2, 2))\n",
              "          )\n",
              "          (blocks): Sequential(\n",
              "            (0): ConvNeXtBlock(\n",
              "              (conv_dw): Conv2d(384, 384, kernel_size=(7, 7), stride=(1, 1), padding=(3, 3), groups=384)\n",
              "              (norm): LayerNorm((384,), eps=1e-06, elementwise_affine=True)\n",
              "              (mlp): GlobalResponseNormMlp(\n",
              "                (fc1): Linear(in_features=384, out_features=1536, bias=True)\n",
              "                (act): GELU()\n",
              "                (drop1): Dropout(p=0.0, inplace=False)\n",
              "                (grn): GlobalResponseNorm()\n",
              "                (fc2): Linear(in_features=1536, out_features=384, bias=True)\n",
              "                (drop2): Dropout(p=0.0, inplace=False)\n",
              "              )\n",
              "              (shortcut): Identity()\n",
              "              (drop_path): Identity()\n",
              "            )\n",
              "            (1): ConvNeXtBlock(\n",
              "              (conv_dw): Conv2d(384, 384, kernel_size=(7, 7), stride=(1, 1), padding=(3, 3), groups=384)\n",
              "              (norm): LayerNorm((384,), eps=1e-06, elementwise_affine=True)\n",
              "              (mlp): GlobalResponseNormMlp(\n",
              "                (fc1): Linear(in_features=384, out_features=1536, bias=True)\n",
              "                (act): GELU()\n",
              "                (drop1): Dropout(p=0.0, inplace=False)\n",
              "                (grn): GlobalResponseNorm()\n",
              "                (fc2): Linear(in_features=1536, out_features=384, bias=True)\n",
              "                (drop2): Dropout(p=0.0, inplace=False)\n",
              "              )\n",
              "              (shortcut): Identity()\n",
              "              (drop_path): Identity()\n",
              "            )\n",
              "            (2): ConvNeXtBlock(\n",
              "              (conv_dw): Conv2d(384, 384, kernel_size=(7, 7), stride=(1, 1), padding=(3, 3), groups=384)\n",
              "              (norm): LayerNorm((384,), eps=1e-06, elementwise_affine=True)\n",
              "              (mlp): GlobalResponseNormMlp(\n",
              "                (fc1): Linear(in_features=384, out_features=1536, bias=True)\n",
              "                (act): GELU()\n",
              "                (drop1): Dropout(p=0.0, inplace=False)\n",
              "                (grn): GlobalResponseNorm()\n",
              "                (fc2): Linear(in_features=1536, out_features=384, bias=True)\n",
              "                (drop2): Dropout(p=0.0, inplace=False)\n",
              "              )\n",
              "              (shortcut): Identity()\n",
              "              (drop_path): Identity()\n",
              "            )\n",
              "            (3): ConvNeXtBlock(\n",
              "              (conv_dw): Conv2d(384, 384, kernel_size=(7, 7), stride=(1, 1), padding=(3, 3), groups=384)\n",
              "              (norm): LayerNorm((384,), eps=1e-06, elementwise_affine=True)\n",
              "              (mlp): GlobalResponseNormMlp(\n",
              "                (fc1): Linear(in_features=384, out_features=1536, bias=True)\n",
              "                (act): GELU()\n",
              "                (drop1): Dropout(p=0.0, inplace=False)\n",
              "                (grn): GlobalResponseNorm()\n",
              "                (fc2): Linear(in_features=1536, out_features=384, bias=True)\n",
              "                (drop2): Dropout(p=0.0, inplace=False)\n",
              "              )\n",
              "              (shortcut): Identity()\n",
              "              (drop_path): Identity()\n",
              "            )\n",
              "            (4): ConvNeXtBlock(\n",
              "              (conv_dw): Conv2d(384, 384, kernel_size=(7, 7), stride=(1, 1), padding=(3, 3), groups=384)\n",
              "              (norm): LayerNorm((384,), eps=1e-06, elementwise_affine=True)\n",
              "              (mlp): GlobalResponseNormMlp(\n",
              "                (fc1): Linear(in_features=384, out_features=1536, bias=True)\n",
              "                (act): GELU()\n",
              "                (drop1): Dropout(p=0.0, inplace=False)\n",
              "                (grn): GlobalResponseNorm()\n",
              "                (fc2): Linear(in_features=1536, out_features=384, bias=True)\n",
              "                (drop2): Dropout(p=0.0, inplace=False)\n",
              "              )\n",
              "              (shortcut): Identity()\n",
              "              (drop_path): Identity()\n",
              "            )\n",
              "            (5): ConvNeXtBlock(\n",
              "              (conv_dw): Conv2d(384, 384, kernel_size=(7, 7), stride=(1, 1), padding=(3, 3), groups=384)\n",
              "              (norm): LayerNorm((384,), eps=1e-06, elementwise_affine=True)\n",
              "              (mlp): GlobalResponseNormMlp(\n",
              "                (fc1): Linear(in_features=384, out_features=1536, bias=True)\n",
              "                (act): GELU()\n",
              "                (drop1): Dropout(p=0.0, inplace=False)\n",
              "                (grn): GlobalResponseNorm()\n",
              "                (fc2): Linear(in_features=1536, out_features=384, bias=True)\n",
              "                (drop2): Dropout(p=0.0, inplace=False)\n",
              "              )\n",
              "              (shortcut): Identity()\n",
              "              (drop_path): Identity()\n",
              "            )\n",
              "            (6): ConvNeXtBlock(\n",
              "              (conv_dw): Conv2d(384, 384, kernel_size=(7, 7), stride=(1, 1), padding=(3, 3), groups=384)\n",
              "              (norm): LayerNorm((384,), eps=1e-06, elementwise_affine=True)\n",
              "              (mlp): GlobalResponseNormMlp(\n",
              "                (fc1): Linear(in_features=384, out_features=1536, bias=True)\n",
              "                (act): GELU()\n",
              "                (drop1): Dropout(p=0.0, inplace=False)\n",
              "                (grn): GlobalResponseNorm()\n",
              "                (fc2): Linear(in_features=1536, out_features=384, bias=True)\n",
              "                (drop2): Dropout(p=0.0, inplace=False)\n",
              "              )\n",
              "              (shortcut): Identity()\n",
              "              (drop_path): Identity()\n",
              "            )\n",
              "            (7): ConvNeXtBlock(\n",
              "              (conv_dw): Conv2d(384, 384, kernel_size=(7, 7), stride=(1, 1), padding=(3, 3), groups=384)\n",
              "              (norm): LayerNorm((384,), eps=1e-06, elementwise_affine=True)\n",
              "              (mlp): GlobalResponseNormMlp(\n",
              "                (fc1): Linear(in_features=384, out_features=1536, bias=True)\n",
              "                (act): GELU()\n",
              "                (drop1): Dropout(p=0.0, inplace=False)\n",
              "                (grn): GlobalResponseNorm()\n",
              "                (fc2): Linear(in_features=1536, out_features=384, bias=True)\n",
              "                (drop2): Dropout(p=0.0, inplace=False)\n",
              "              )\n",
              "              (shortcut): Identity()\n",
              "              (drop_path): Identity()\n",
              "            )\n",
              "            (8): ConvNeXtBlock(\n",
              "              (conv_dw): Conv2d(384, 384, kernel_size=(7, 7), stride=(1, 1), padding=(3, 3), groups=384)\n",
              "              (norm): LayerNorm((384,), eps=1e-06, elementwise_affine=True)\n",
              "              (mlp): GlobalResponseNormMlp(\n",
              "                (fc1): Linear(in_features=384, out_features=1536, bias=True)\n",
              "                (act): GELU()\n",
              "                (drop1): Dropout(p=0.0, inplace=False)\n",
              "                (grn): GlobalResponseNorm()\n",
              "                (fc2): Linear(in_features=1536, out_features=384, bias=True)\n",
              "                (drop2): Dropout(p=0.0, inplace=False)\n",
              "              )\n",
              "              (shortcut): Identity()\n",
              "              (drop_path): Identity()\n",
              "            )\n",
              "          )\n",
              "        )\n",
              "        (3): ConvNeXtStage(\n",
              "          (downsample): Sequential(\n",
              "            (0): LayerNorm2d((384,), eps=1e-06, elementwise_affine=True)\n",
              "            (1): Conv2d(384, 768, kernel_size=(2, 2), stride=(2, 2))\n",
              "          )\n",
              "          (blocks): Sequential(\n",
              "            (0): ConvNeXtBlock(\n",
              "              (conv_dw): Conv2d(768, 768, kernel_size=(7, 7), stride=(1, 1), padding=(3, 3), groups=768)\n",
              "              (norm): LayerNorm((768,), eps=1e-06, elementwise_affine=True)\n",
              "              (mlp): GlobalResponseNormMlp(\n",
              "                (fc1): Linear(in_features=768, out_features=3072, bias=True)\n",
              "                (act): GELU()\n",
              "                (drop1): Dropout(p=0.0, inplace=False)\n",
              "                (grn): GlobalResponseNorm()\n",
              "                (fc2): Linear(in_features=3072, out_features=768, bias=True)\n",
              "                (drop2): Dropout(p=0.0, inplace=False)\n",
              "              )\n",
              "              (shortcut): Identity()\n",
              "              (drop_path): Identity()\n",
              "            )\n",
              "            (1): ConvNeXtBlock(\n",
              "              (conv_dw): Conv2d(768, 768, kernel_size=(7, 7), stride=(1, 1), padding=(3, 3), groups=768)\n",
              "              (norm): LayerNorm((768,), eps=1e-06, elementwise_affine=True)\n",
              "              (mlp): GlobalResponseNormMlp(\n",
              "                (fc1): Linear(in_features=768, out_features=3072, bias=True)\n",
              "                (act): GELU()\n",
              "                (drop1): Dropout(p=0.0, inplace=False)\n",
              "                (grn): GlobalResponseNorm()\n",
              "                (fc2): Linear(in_features=3072, out_features=768, bias=True)\n",
              "                (drop2): Dropout(p=0.0, inplace=False)\n",
              "              )\n",
              "              (shortcut): Identity()\n",
              "              (drop_path): Identity()\n",
              "            )\n",
              "            (2): ConvNeXtBlock(\n",
              "              (conv_dw): Conv2d(768, 768, kernel_size=(7, 7), stride=(1, 1), padding=(3, 3), groups=768)\n",
              "              (norm): LayerNorm((768,), eps=1e-06, elementwise_affine=True)\n",
              "              (mlp): GlobalResponseNormMlp(\n",
              "                (fc1): Linear(in_features=768, out_features=3072, bias=True)\n",
              "                (act): GELU()\n",
              "                (drop1): Dropout(p=0.0, inplace=False)\n",
              "                (grn): GlobalResponseNorm()\n",
              "                (fc2): Linear(in_features=3072, out_features=768, bias=True)\n",
              "                (drop2): Dropout(p=0.0, inplace=False)\n",
              "              )\n",
              "              (shortcut): Identity()\n",
              "              (drop_path): Identity()\n",
              "            )\n",
              "          )\n",
              "        )\n",
              "      )\n",
              "      (norm_pre): Identity()\n",
              "      (head): NormMlpClassifierHead(\n",
              "        (global_pool): SelectAdaptivePool2d(pool_type=avg, flatten=Identity())\n",
              "        (norm): LayerNorm2d((768,), eps=1e-06, elementwise_affine=True)\n",
              "        (flatten): Flatten(start_dim=1, end_dim=-1)\n",
              "        (pre_logits): Identity()\n",
              "        (drop): Dropout(p=0.0, inplace=False)\n",
              "        (fc): Identity()\n",
              "      )\n",
              "    )\n",
              "  )\n",
              "  (1): Sequential(\n",
              "    (0): AdaptiveConcatPool2d(\n",
              "      (ap): AdaptiveAvgPool2d(output_size=1)\n",
              "      (mp): AdaptiveMaxPool2d(output_size=1)\n",
              "    )\n",
              "    (1): fastai.layers.Flatten(full=False)\n",
              "    (2): BatchNorm1d(1536, eps=1e-05, momentum=0.1, affine=True, track_running_stats=True)\n",
              "    (3): Dropout(p=0.25, inplace=False)\n",
              "    (4): Linear(in_features=1536, out_features=512, bias=False)\n",
              "    (5): ReLU(inplace=True)\n",
              "    (6): BatchNorm1d(512, eps=1e-05, momentum=0.1, affine=True, track_running_stats=True)\n",
              "    (7): Dropout(p=0.5, inplace=False)\n",
              "    (8): Linear(in_features=512, out_features=37, bias=False)\n",
              "  )\n",
              ")"
            ]
          },
          "metadata": {},
          "execution_count": 14
        }
      ]
    },
    {
      "cell_type": "code",
      "source": [
        "l = m.get_submodule('0.model.stem.1')\n",
        "list(l.parameters())"
      ],
      "metadata": {
        "colab": {
          "base_uri": "https://localhost:8080/"
        },
        "id": "NOxXKgNnaatj",
        "outputId": "81b3c5f6-3977-4e78-fed0-3e30360bbd4e"
      },
      "execution_count": 15,
      "outputs": [
        {
          "output_type": "execute_result",
          "data": {
            "text/plain": [
              "[Parameter containing:\n",
              " tensor([ 4.9267e+00, -1.0120e-02,  1.1229e+00,  3.4997e-01,  1.9989e-01,\n",
              "          4.7772e-01, -8.7762e-03,  1.9129e+00,  3.0254e+00,  1.5560e+00,\n",
              "          5.8126e-01,  1.1860e-03,  3.3808e+00,  1.2347e+00, -5.8281e-03,\n",
              "          2.1272e+00,  1.7260e+00,  7.8096e-01,  2.3192e+00,  3.1638e+00,\n",
              "          1.6733e+00,  1.3218e+00,  3.6870e-01,  2.2167e+00,  1.8442e-01,\n",
              "          1.5429e-01,  1.8194e+00, -6.7628e-03,  2.3793e+00,  3.6737e+00,\n",
              "          4.0111e-01,  1.1293e-02,  3.6715e-01,  1.2003e+00,  7.2480e-01,\n",
              "          2.8410e-01,  2.4173e+00,  3.0963e-01,  7.0923e-01,  6.3421e-01,\n",
              "          7.8653e-01,  7.0021e-04,  2.8177e-01,  5.4472e-01,  8.0806e-01,\n",
              "          3.3338e-01,  7.9642e-01,  5.9966e-01,  1.9881e-01,  3.4812e-01,\n",
              "          2.2378e+00,  1.0382e-02,  1.1585e+00, -5.4462e-03,  3.2378e+00,\n",
              "          5.8512e-01,  2.2213e-01,  4.1913e+00,  2.9568e-01,  8.4083e-01,\n",
              "         -2.0596e-03,  6.7326e-03,  6.6543e-01,  2.4127e-01,  1.2580e+00,\n",
              "          2.7599e-01,  6.4773e-01,  2.5358e-01,  4.6885e+00,  6.5758e-01,\n",
              "          2.5306e-03,  4.7685e+00,  3.3601e+00,  2.8275e-01,  5.7366e-01,\n",
              "          5.2323e-01,  2.9037e+00,  4.1521e-01,  6.5540e-01,  3.0521e+00,\n",
              "          9.8073e-03,  1.2142e-01,  1.3769e+00,  3.0648e-01,  3.1011e+00,\n",
              "          4.7326e-01,  1.2640e+00,  3.0559e-01,  3.0937e+00,  3.6256e-01,\n",
              "          2.8399e+00,  2.4822e-01,  2.2105e-01,  2.9499e+00,  4.2412e-01,\n",
              "          1.6509e-01], requires_grad=True),\n",
              " Parameter containing:\n",
              " tensor([ 2.1693e-02,  7.1750e-01,  3.1436e-01, -9.8662e-01,  3.3424e-03,\n",
              "         -2.4535e+00, -8.3183e-01,  2.0590e+00,  5.6012e-02,  1.3407e-01,\n",
              "          8.9238e-03, -1.9411e-03,  2.7636e-02, -1.6197e+00,  2.2991e-01,\n",
              "          5.0872e-02,  7.2179e-02, -4.1908e-02, -3.2426e-03,  3.0403e-02,\n",
              "         -6.2917e-03, -3.1804e-03,  6.3078e-03, -1.1711e-01,  4.4558e-02,\n",
              "          3.5819e-02, -9.4303e-02,  1.2099e+00,  2.5389e-01,  4.9796e-02,\n",
              "          4.2278e-03,  3.2939e-01,  1.2580e-02, -5.8183e-02,  1.8061e-02,\n",
              "          2.7742e-02,  5.0407e-01,  9.4288e-03, -2.0245e-02, -3.2663e-03,\n",
              "          2.8340e-02,  2.9113e-01,  2.1326e-02, -6.7595e-01, -8.5753e-02,\n",
              "          5.2560e-02,  3.1569e-02,  2.0191e+00,  2.8726e-02, -1.2759e-02,\n",
              "          7.8307e-02,  4.9846e-02,  7.8729e-02,  3.5197e-03,  3.9192e-02,\n",
              "          1.0175e-01,  6.3779e-03, -4.2418e-03,  2.2473e-02, -6.9798e-03,\n",
              "          3.4137e-01, -5.3071e-01,  2.8344e-02, -1.4401e-02,  2.2945e+00,\n",
              "         -3.9684e-02,  1.0928e-01, -5.2820e-03,  5.1109e-03,  1.1552e-02,\n",
              "          1.8775e-04,  3.8309e-02,  3.6480e-02, -4.7673e-04,  9.2129e-02,\n",
              "          1.1812e+00, -1.3743e-01, -1.5181e+00,  1.4626e-01,  5.9645e-02,\n",
              "         -5.1711e-02,  2.4096e-02, -7.4278e-02,  1.6115e-03,  5.9491e-02,\n",
              "         -2.3244e-01,  2.8178e-01, -2.0201e-02, -6.2763e-02, -2.5363e-02,\n",
              "         -4.4795e-02, -1.9036e-02,  1.5820e-02, -3.6720e-02, -3.5874e-02,\n",
              "          4.3461e-03], requires_grad=True)]"
            ]
          },
          "metadata": {},
          "execution_count": 15
        }
      ]
    },
    {
      "cell_type": "code",
      "source": [
        "l = m.get_submodule('0.model.stages.0.blocks.1.mlp.fc1')\n",
        "list(l.parameters())"
      ],
      "metadata": {
        "colab": {
          "base_uri": "https://localhost:8080/"
        },
        "id": "f0nYzWXMafx_",
        "outputId": "d7d11890-eb61-47ef-8b50-b5c01b6e398a"
      },
      "execution_count": 16,
      "outputs": [
        {
          "output_type": "execute_result",
          "data": {
            "text/plain": [
              "[Parameter containing:\n",
              " tensor([[-0.0548, -0.0274, -0.0113,  ...,  0.0162,  0.0374, -0.0030],\n",
              "         [ 0.0018, -0.0522,  0.0143,  ..., -0.0251, -0.0423,  0.0049],\n",
              "         [-0.0103,  0.0004, -0.0078,  ..., -0.0394, -0.0060, -0.0003],\n",
              "         ...,\n",
              "         [-0.0040, -0.0124, -0.0327,  ..., -0.0213, -0.0051,  0.0024],\n",
              "         [ 0.0304,  0.0005,  0.0192,  ...,  0.0491, -0.0116, -0.0041],\n",
              "         [-0.0075,  0.0014, -0.0085,  ...,  0.0120,  0.0137,  0.0041]],\n",
              "        requires_grad=True),\n",
              " Parameter containing:\n",
              " tensor([-0.8709, -0.7154, -1.0197, -1.0518, -0.5569, -0.8993, -0.7452, -1.1259,\n",
              "         -0.9348, -1.1854, -0.8043, -0.7970,  0.1005, -1.5095, -0.9240, -0.6480,\n",
              "          0.6851, -1.1376, -0.0262, -1.0960, -0.8625, -0.7150, -0.6820,  0.2149,\n",
              "         -1.6132, -0.6693, -0.4568, -0.0345, -0.6726, -0.4705, -0.8045,  0.0035,\n",
              "         -0.4164,  1.1498, -0.9722, -0.2357, -0.8716, -1.0912, -0.5575,  0.1452,\n",
              "         -1.3999,  0.1282, -0.4642, -0.5792,  0.0432, -1.1842,  0.1650, -1.1269,\n",
              "         -1.4343, -1.0154, -1.0422, -1.0554, -0.9645, -0.8282, -0.1249, -0.9159,\n",
              "         -0.1743, -1.1329, -0.5557, -0.9601, -0.5444, -0.1855, -0.9323, -0.9431,\n",
              "         -0.6301, -0.1016, -0.4250, -1.1639, -1.0388, -0.8603,  0.2181, -0.5837,\n",
              "         -0.5519, -0.9181, -1.5489, -1.1366, -0.5259,  0.1578, -1.8885, -0.3252,\n",
              "         -1.0519, -0.3035, -1.0424,  0.0470, -0.5449, -0.7239, -0.0128, -0.2204,\n",
              "         -0.3005, -1.3355, -1.4724, -0.8167,  0.1200, -1.1844, -1.0890, -1.0196,\n",
              "         -0.7403, -0.8362,  0.2723, -0.6672, -0.8510, -0.9288, -0.7534,  0.3411,\n",
              "         -0.8400, -0.8585, -1.1103,  0.0253, -0.8191, -0.6778, -0.8824, -0.8686,\n",
              "         -0.6498, -1.0601, -0.7346, -1.5594, -1.2031, -0.8688, -1.1627, -0.2543,\n",
              "         -0.9175, -0.6721, -1.1431, -0.1053, -1.3273, -0.2871, -0.8453, -0.9919,\n",
              "         -1.0520, -0.0888, -0.7569, -1.0304, -1.6801, -1.0806, -1.0054, -1.2723,\n",
              "         -0.9601, -0.7422, -2.0823, -1.6652,  1.2234, -1.2330,  1.6336, -0.2864,\n",
              "         -0.1724,  0.8119, -1.0295, -1.9505, -0.6096,  0.1257,  0.0601, -1.1687,\n",
              "         -1.1579, -1.0781, -0.7344, -1.3377, -0.6892, -0.0307, -0.7308, -1.6324,\n",
              "         -0.7489, -0.7781, -0.4587, -0.7459, -0.6080, -1.0781, -0.5075,  0.0577,\n",
              "         -0.9883,  0.0601, -1.1020, -0.0194, -0.5551, -1.0400,  0.1957, -1.9135,\n",
              "         -1.0613, -0.1943, -0.8216, -0.5153, -0.8811, -1.1114, -2.1139,  0.0241,\n",
              "         -0.9122, -0.3441, -0.6731, -0.7381, -1.1557, -0.7440, -0.9895, -0.7293,\n",
              "         -1.2092, -0.9574, -0.5806, -1.3259,  0.4019, -0.9670, -0.9635,  0.0251,\n",
              "          0.5223,  0.1060,  0.0964, -0.6362, -1.4619,  0.4936, -1.1745, -0.7144,\n",
              "          0.1577, -0.7499, -0.1471,  0.0355, -0.0550, -0.6171, -0.2947, -0.2752,\n",
              "         -0.1771, -0.8613, -0.8889, -0.8137, -0.4143, -1.0673, -0.9342, -0.8888,\n",
              "         -1.0049, -0.5801, -1.0735, -0.9502, -0.8322,  0.2892, -0.6220, -1.5728,\n",
              "         -0.9145, -0.8389, -0.2166, -0.8133, -1.2770, -0.8947, -0.8608, -0.4658,\n",
              "         -0.2383, -0.4285, -1.1688, -1.1162, -0.0032, -1.0270, -1.0406,  0.0296,\n",
              "         -0.7893, -0.7892, -0.0620, -1.1783, -0.6535, -1.0077,  0.1786, -0.5676,\n",
              "         -0.6162, -0.0451, -1.1746, -1.0208, -0.0352, -0.0367, -0.7860, -1.0950,\n",
              "         -0.7336, -2.0822, -0.2958, -0.5171, -1.0887,  0.6529, -1.8122, -0.5820,\n",
              "         -0.7848, -0.7483, -0.9317, -1.7907, -0.7555, -1.3784, -0.8370, -0.8695,\n",
              "         -1.0020, -1.1710,  0.2856,  0.3896, -1.3104, -0.1781, -1.4976, -0.6689,\n",
              "         -1.5142,  0.3117, -0.3611, -0.1487, -0.8931, -0.8731, -0.0661, -0.0781,\n",
              "          0.0265, -1.0103, -0.9474, -0.3682, -0.8501,  0.2564, -0.7619, -0.9394,\n",
              "         -1.1220, -0.8799, -0.9013, -0.8466, -1.0565, -0.4911, -0.6900, -0.7956,\n",
              "         -0.8566, -1.3175, -1.7420, -1.2749, -0.4087, -1.3843, -0.8035, -0.5891,\n",
              "         -0.8960, -0.9003,  0.2714, -0.4426, -0.6130, -0.4060, -0.0892, -1.0746,\n",
              "         -1.1280, -0.7393, -0.9337, -0.8512,  0.2821, -0.3914, -0.8366, -0.8209,\n",
              "         -1.1843, -0.2383, -0.4323, -1.4915, -1.2294,  0.0049, -1.3582, -0.6743,\n",
              "         -0.8112, -0.9942, -0.9221, -0.1515, -1.8717, -0.1445, -0.7375, -1.2759,\n",
              "         -1.1871, -0.4651, -1.4107, -1.0674,  0.0847, -0.1264, -0.4053, -0.2344,\n",
              "         -1.1281, -0.6818, -1.4250, -1.2236,  0.1913,  0.1990,  0.4873, -1.0198,\n",
              "         -0.3931, -0.8783, -1.0143, -1.2412, -1.0231, -0.8864,  0.3378, -0.5213,\n",
              "         -0.4395, -1.1520, -0.9902, -0.4052, -1.1925, -1.2055, -0.2372, -0.6130],\n",
              "        requires_grad=True)]"
            ]
          },
          "metadata": {},
          "execution_count": 16
        }
      ]
    },
    {
      "cell_type": "code",
      "source": [],
      "metadata": {
        "id": "jCB0v46mcZ9e"
      },
      "execution_count": null,
      "outputs": []
    }
  ]
}